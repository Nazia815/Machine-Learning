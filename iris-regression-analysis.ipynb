{
 "cells": [
  {
   "cell_type": "code",
   "execution_count": 1,
   "id": "a04dd405",
   "metadata": {
    "_cell_guid": "b1076dfc-b9ad-4769-8c92-a6c4dae69d19",
    "_uuid": "8f2839f25d086af736a60e9eeb907d3b93b6e0e5",
    "execution": {
     "iopub.execute_input": "2022-11-13T09:06:35.557558Z",
     "iopub.status.busy": "2022-11-13T09:06:35.557105Z",
     "iopub.status.idle": "2022-11-13T09:06:35.568706Z",
     "shell.execute_reply": "2022-11-13T09:06:35.567752Z"
    },
    "papermill": {
     "duration": 0.027727,
     "end_time": "2022-11-13T09:06:35.571107",
     "exception": false,
     "start_time": "2022-11-13T09:06:35.543380",
     "status": "completed"
    },
    "tags": []
   },
   "outputs": [],
   "source": [
    "\n",
    "#importing necessary libraries\n",
    "\n",
    "import pandas as pd\n",
    "import numpy as np"
   ]
  },
  {
   "cell_type": "markdown",
   "id": "a56daa19",
   "metadata": {
    "papermill": {
     "duration": 0.017294,
     "end_time": "2022-11-13T09:06:35.599049",
     "exception": false,
     "start_time": "2022-11-13T09:06:35.581755",
     "status": "completed"
    },
    "tags": []
   },
   "source": [
    "The Iris Dataset contains four features (length and width of sepals and petals) of  samples of three species of Iris (Iris setosa, Iris virginica and Iris versicolor). These measures were used to create a linear discriminant model to classify the species."
   ]
  },
  {
   "cell_type": "code",
   "execution_count": 2,
   "id": "bfec697e",
   "metadata": {
    "execution": {
     "iopub.execute_input": "2022-11-13T09:06:35.633598Z",
     "iopub.status.busy": "2022-11-13T09:06:35.632866Z",
     "iopub.status.idle": "2022-11-13T09:06:35.676531Z",
     "shell.execute_reply": "2022-11-13T09:06:35.675376Z"
    },
    "papermill": {
     "duration": 0.067583,
     "end_time": "2022-11-13T09:06:35.679262",
     "exception": false,
     "start_time": "2022-11-13T09:06:35.611679",
     "status": "completed"
    },
    "tags": []
   },
   "outputs": [
    {
     "data": {
      "text/html": [
       "<div>\n",
       "<style scoped>\n",
       "    .dataframe tbody tr th:only-of-type {\n",
       "        vertical-align: middle;\n",
       "    }\n",
       "\n",
       "    .dataframe tbody tr th {\n",
       "        vertical-align: top;\n",
       "    }\n",
       "\n",
       "    .dataframe thead th {\n",
       "        text-align: right;\n",
       "    }\n",
       "</style>\n",
       "<table border=\"1\" class=\"dataframe\">\n",
       "  <thead>\n",
       "    <tr style=\"text-align: right;\">\n",
       "      <th></th>\n",
       "      <th>sepal_length</th>\n",
       "      <th>sepal_width</th>\n",
       "      <th>petal_length</th>\n",
       "      <th>petal_width</th>\n",
       "      <th>species</th>\n",
       "    </tr>\n",
       "  </thead>\n",
       "  <tbody>\n",
       "    <tr>\n",
       "      <th>0</th>\n",
       "      <td>5.1</td>\n",
       "      <td>3.5</td>\n",
       "      <td>1.4</td>\n",
       "      <td>0.2</td>\n",
       "      <td>Iris-setosa</td>\n",
       "    </tr>\n",
       "    <tr>\n",
       "      <th>1</th>\n",
       "      <td>4.9</td>\n",
       "      <td>3.0</td>\n",
       "      <td>1.4</td>\n",
       "      <td>0.2</td>\n",
       "      <td>Iris-setosa</td>\n",
       "    </tr>\n",
       "    <tr>\n",
       "      <th>2</th>\n",
       "      <td>4.7</td>\n",
       "      <td>3.2</td>\n",
       "      <td>1.3</td>\n",
       "      <td>0.2</td>\n",
       "      <td>Iris-setosa</td>\n",
       "    </tr>\n",
       "    <tr>\n",
       "      <th>3</th>\n",
       "      <td>4.6</td>\n",
       "      <td>3.1</td>\n",
       "      <td>1.5</td>\n",
       "      <td>0.2</td>\n",
       "      <td>Iris-setosa</td>\n",
       "    </tr>\n",
       "    <tr>\n",
       "      <th>4</th>\n",
       "      <td>5.0</td>\n",
       "      <td>3.6</td>\n",
       "      <td>1.4</td>\n",
       "      <td>0.2</td>\n",
       "      <td>Iris-setosa</td>\n",
       "    </tr>\n",
       "  </tbody>\n",
       "</table>\n",
       "</div>"
      ],
      "text/plain": [
       "   sepal_length  sepal_width  petal_length  petal_width      species\n",
       "0           5.1          3.5           1.4          0.2  Iris-setosa\n",
       "1           4.9          3.0           1.4          0.2  Iris-setosa\n",
       "2           4.7          3.2           1.3          0.2  Iris-setosa\n",
       "3           4.6          3.1           1.5          0.2  Iris-setosa\n",
       "4           5.0          3.6           1.4          0.2  Iris-setosa"
      ]
     },
     "execution_count": 2,
     "metadata": {},
     "output_type": "execute_result"
    }
   ],
   "source": [
    "#importing the dataset\n",
    "\n",
    "df = pd.read_csv(\"../input/iris-flower-dataset/IRIS.csv\")\n",
    "df.head()"
   ]
  },
  {
   "cell_type": "markdown",
   "id": "dfced155",
   "metadata": {
    "papermill": {
     "duration": 0.01039,
     "end_time": "2022-11-13T09:06:35.701878",
     "exception": false,
     "start_time": "2022-11-13T09:06:35.691488",
     "status": "completed"
    },
    "tags": []
   },
   "source": [
    "We will analyze the diffrent aspects of these features of three species"
   ]
  },
  {
   "cell_type": "code",
   "execution_count": 3,
   "id": "9c7cf423",
   "metadata": {
    "execution": {
     "iopub.execute_input": "2022-11-13T09:06:35.725889Z",
     "iopub.status.busy": "2022-11-13T09:06:35.724750Z",
     "iopub.status.idle": "2022-11-13T09:06:35.749991Z",
     "shell.execute_reply": "2022-11-13T09:06:35.748800Z"
    },
    "papermill": {
     "duration": 0.040759,
     "end_time": "2022-11-13T09:06:35.753340",
     "exception": false,
     "start_time": "2022-11-13T09:06:35.712581",
     "status": "completed"
    },
    "tags": []
   },
   "outputs": [
    {
     "name": "stdout",
     "output_type": "stream",
     "text": [
      "<class 'pandas.core.frame.DataFrame'>\n",
      "RangeIndex: 150 entries, 0 to 149\n",
      "Data columns (total 5 columns):\n",
      " #   Column        Non-Null Count  Dtype  \n",
      "---  ------        --------------  -----  \n",
      " 0   sepal_length  150 non-null    float64\n",
      " 1   sepal_width   150 non-null    float64\n",
      " 2   petal_length  150 non-null    float64\n",
      " 3   petal_width   150 non-null    float64\n",
      " 4   species       150 non-null    object \n",
      "dtypes: float64(4), object(1)\n",
      "memory usage: 6.0+ KB\n"
     ]
    }
   ],
   "source": [
    "#first we will see if there are nulls in our data\n",
    "\n",
    "df.info()\n"
   ]
  },
  {
   "cell_type": "markdown",
   "id": "905317ae",
   "metadata": {
    "papermill": {
     "duration": 0.013052,
     "end_time": "2022-11-13T09:06:35.779707",
     "exception": false,
     "start_time": "2022-11-13T09:06:35.766655",
     "status": "completed"
    },
    "tags": []
   },
   "source": [
    "As we can see there are no null values in our data so we can go further with our analyzes"
   ]
  },
  {
   "cell_type": "markdown",
   "id": "e31acb64",
   "metadata": {
    "papermill": {
     "duration": 0.010684,
     "end_time": "2022-11-13T09:06:35.801685",
     "exception": false,
     "start_time": "2022-11-13T09:06:35.791001",
     "status": "completed"
    },
    "tags": []
   },
   "source": [
    "As we can see the colomun sepal_width is having first five values less than 4 so we will check sepal_width values having greater than 4"
   ]
  },
  {
   "cell_type": "code",
   "execution_count": 4,
   "id": "2017ac53",
   "metadata": {
    "execution": {
     "iopub.execute_input": "2022-11-13T09:06:35.825959Z",
     "iopub.status.busy": "2022-11-13T09:06:35.825494Z",
     "iopub.status.idle": "2022-11-13T09:06:35.841129Z",
     "shell.execute_reply": "2022-11-13T09:06:35.840162Z"
    },
    "papermill": {
     "duration": 0.03048,
     "end_time": "2022-11-13T09:06:35.843198",
     "exception": false,
     "start_time": "2022-11-13T09:06:35.812718",
     "status": "completed"
    },
    "tags": []
   },
   "outputs": [
    {
     "data": {
      "text/html": [
       "<div>\n",
       "<style scoped>\n",
       "    .dataframe tbody tr th:only-of-type {\n",
       "        vertical-align: middle;\n",
       "    }\n",
       "\n",
       "    .dataframe tbody tr th {\n",
       "        vertical-align: top;\n",
       "    }\n",
       "\n",
       "    .dataframe thead th {\n",
       "        text-align: right;\n",
       "    }\n",
       "</style>\n",
       "<table border=\"1\" class=\"dataframe\">\n",
       "  <thead>\n",
       "    <tr style=\"text-align: right;\">\n",
       "      <th></th>\n",
       "      <th>sepal_length</th>\n",
       "      <th>sepal_width</th>\n",
       "      <th>petal_length</th>\n",
       "      <th>petal_width</th>\n",
       "      <th>species</th>\n",
       "    </tr>\n",
       "  </thead>\n",
       "  <tbody>\n",
       "    <tr>\n",
       "      <th>15</th>\n",
       "      <td>5.7</td>\n",
       "      <td>4.4</td>\n",
       "      <td>1.5</td>\n",
       "      <td>0.4</td>\n",
       "      <td>Iris-setosa</td>\n",
       "    </tr>\n",
       "    <tr>\n",
       "      <th>32</th>\n",
       "      <td>5.2</td>\n",
       "      <td>4.1</td>\n",
       "      <td>1.5</td>\n",
       "      <td>0.1</td>\n",
       "      <td>Iris-setosa</td>\n",
       "    </tr>\n",
       "    <tr>\n",
       "      <th>33</th>\n",
       "      <td>5.5</td>\n",
       "      <td>4.2</td>\n",
       "      <td>1.4</td>\n",
       "      <td>0.2</td>\n",
       "      <td>Iris-setosa</td>\n",
       "    </tr>\n",
       "  </tbody>\n",
       "</table>\n",
       "</div>"
      ],
      "text/plain": [
       "    sepal_length  sepal_width  petal_length  petal_width      species\n",
       "15           5.7          4.4           1.5          0.4  Iris-setosa\n",
       "32           5.2          4.1           1.5          0.1  Iris-setosa\n",
       "33           5.5          4.2           1.4          0.2  Iris-setosa"
      ]
     },
     "execution_count": 4,
     "metadata": {},
     "output_type": "execute_result"
    }
   ],
   "source": [
    "df[df['sepal_width']>4]"
   ]
  },
  {
   "cell_type": "markdown",
   "id": "1e0b15cf",
   "metadata": {
    "papermill": {
     "duration": 0.010897,
     "end_time": "2022-11-13T09:06:35.867995",
     "exception": false,
     "start_time": "2022-11-13T09:06:35.857098",
     "status": "completed"
    },
    "tags": []
   },
   "source": [
    "1 - So there are three observations having sepal_width more than 4.\n",
    "\n",
    "2 - Intresting thing to note is that all are having Iris_ setosa species.\n",
    "\n",
    "3 - Which might mean that other two species are having sepal width less than 4."
   ]
  },
  {
   "cell_type": "markdown",
   "id": "0ba5b60b",
   "metadata": {
    "papermill": {
     "duration": 0.010762,
     "end_time": "2022-11-13T09:06:35.890098",
     "exception": false,
     "start_time": "2022-11-13T09:06:35.879336",
     "status": "completed"
    },
    "tags": []
   },
   "source": [
    "Now similarly we will check petal_width having values greater than 1"
   ]
  },
  {
   "cell_type": "code",
   "execution_count": 5,
   "id": "33808ac6",
   "metadata": {
    "execution": {
     "iopub.execute_input": "2022-11-13T09:06:35.917686Z",
     "iopub.status.busy": "2022-11-13T09:06:35.917311Z",
     "iopub.status.idle": "2022-11-13T09:06:35.938016Z",
     "shell.execute_reply": "2022-11-13T09:06:35.935746Z"
    },
    "papermill": {
     "duration": 0.039621,
     "end_time": "2022-11-13T09:06:35.940885",
     "exception": false,
     "start_time": "2022-11-13T09:06:35.901264",
     "status": "completed"
    },
    "tags": []
   },
   "outputs": [
    {
     "data": {
      "text/html": [
       "<div>\n",
       "<style scoped>\n",
       "    .dataframe tbody tr th:only-of-type {\n",
       "        vertical-align: middle;\n",
       "    }\n",
       "\n",
       "    .dataframe tbody tr th {\n",
       "        vertical-align: top;\n",
       "    }\n",
       "\n",
       "    .dataframe thead th {\n",
       "        text-align: right;\n",
       "    }\n",
       "</style>\n",
       "<table border=\"1\" class=\"dataframe\">\n",
       "  <thead>\n",
       "    <tr style=\"text-align: right;\">\n",
       "      <th></th>\n",
       "      <th>sepal_length</th>\n",
       "      <th>sepal_width</th>\n",
       "      <th>petal_length</th>\n",
       "      <th>petal_width</th>\n",
       "      <th>species</th>\n",
       "    </tr>\n",
       "  </thead>\n",
       "  <tbody>\n",
       "    <tr>\n",
       "      <th>50</th>\n",
       "      <td>7.0</td>\n",
       "      <td>3.2</td>\n",
       "      <td>4.7</td>\n",
       "      <td>1.4</td>\n",
       "      <td>Iris-versicolor</td>\n",
       "    </tr>\n",
       "    <tr>\n",
       "      <th>51</th>\n",
       "      <td>6.4</td>\n",
       "      <td>3.2</td>\n",
       "      <td>4.5</td>\n",
       "      <td>1.5</td>\n",
       "      <td>Iris-versicolor</td>\n",
       "    </tr>\n",
       "    <tr>\n",
       "      <th>52</th>\n",
       "      <td>6.9</td>\n",
       "      <td>3.1</td>\n",
       "      <td>4.9</td>\n",
       "      <td>1.5</td>\n",
       "      <td>Iris-versicolor</td>\n",
       "    </tr>\n",
       "    <tr>\n",
       "      <th>53</th>\n",
       "      <td>5.5</td>\n",
       "      <td>2.3</td>\n",
       "      <td>4.0</td>\n",
       "      <td>1.3</td>\n",
       "      <td>Iris-versicolor</td>\n",
       "    </tr>\n",
       "    <tr>\n",
       "      <th>54</th>\n",
       "      <td>6.5</td>\n",
       "      <td>2.8</td>\n",
       "      <td>4.6</td>\n",
       "      <td>1.5</td>\n",
       "      <td>Iris-versicolor</td>\n",
       "    </tr>\n",
       "    <tr>\n",
       "      <th>...</th>\n",
       "      <td>...</td>\n",
       "      <td>...</td>\n",
       "      <td>...</td>\n",
       "      <td>...</td>\n",
       "      <td>...</td>\n",
       "    </tr>\n",
       "    <tr>\n",
       "      <th>145</th>\n",
       "      <td>6.7</td>\n",
       "      <td>3.0</td>\n",
       "      <td>5.2</td>\n",
       "      <td>2.3</td>\n",
       "      <td>Iris-virginica</td>\n",
       "    </tr>\n",
       "    <tr>\n",
       "      <th>146</th>\n",
       "      <td>6.3</td>\n",
       "      <td>2.5</td>\n",
       "      <td>5.0</td>\n",
       "      <td>1.9</td>\n",
       "      <td>Iris-virginica</td>\n",
       "    </tr>\n",
       "    <tr>\n",
       "      <th>147</th>\n",
       "      <td>6.5</td>\n",
       "      <td>3.0</td>\n",
       "      <td>5.2</td>\n",
       "      <td>2.0</td>\n",
       "      <td>Iris-virginica</td>\n",
       "    </tr>\n",
       "    <tr>\n",
       "      <th>148</th>\n",
       "      <td>6.2</td>\n",
       "      <td>3.4</td>\n",
       "      <td>5.4</td>\n",
       "      <td>2.3</td>\n",
       "      <td>Iris-virginica</td>\n",
       "    </tr>\n",
       "    <tr>\n",
       "      <th>149</th>\n",
       "      <td>5.9</td>\n",
       "      <td>3.0</td>\n",
       "      <td>5.1</td>\n",
       "      <td>1.8</td>\n",
       "      <td>Iris-virginica</td>\n",
       "    </tr>\n",
       "  </tbody>\n",
       "</table>\n",
       "<p>93 rows × 5 columns</p>\n",
       "</div>"
      ],
      "text/plain": [
       "     sepal_length  sepal_width  petal_length  petal_width          species\n",
       "50            7.0          3.2           4.7          1.4  Iris-versicolor\n",
       "51            6.4          3.2           4.5          1.5  Iris-versicolor\n",
       "52            6.9          3.1           4.9          1.5  Iris-versicolor\n",
       "53            5.5          2.3           4.0          1.3  Iris-versicolor\n",
       "54            6.5          2.8           4.6          1.5  Iris-versicolor\n",
       "..            ...          ...           ...          ...              ...\n",
       "145           6.7          3.0           5.2          2.3   Iris-virginica\n",
       "146           6.3          2.5           5.0          1.9   Iris-virginica\n",
       "147           6.5          3.0           5.2          2.0   Iris-virginica\n",
       "148           6.2          3.4           5.4          2.3   Iris-virginica\n",
       "149           5.9          3.0           5.1          1.8   Iris-virginica\n",
       "\n",
       "[93 rows x 5 columns]"
      ]
     },
     "execution_count": 5,
     "metadata": {},
     "output_type": "execute_result"
    }
   ],
   "source": [
    "df[df['petal_width']>1]"
   ]
  },
  {
   "cell_type": "markdown",
   "id": "2751ee12",
   "metadata": {
    "papermill": {
     "duration": 0.011635,
     "end_time": "2022-11-13T09:06:35.964559",
     "exception": false,
     "start_time": "2022-11-13T09:06:35.952924",
     "status": "completed"
    },
    "tags": []
   },
   "source": [
    "1 - there are 93 observation having petal_width more than 1.\n",
    "\n",
    "2 - and all species are either vesicolor or virginica.\n",
    "\n",
    "3 - and only virginica seems to have petal_width more than 2 so lets check that as well."
   ]
  },
  {
   "cell_type": "code",
   "execution_count": 6,
   "id": "0a8a2326",
   "metadata": {
    "execution": {
     "iopub.execute_input": "2022-11-13T09:06:35.993531Z",
     "iopub.status.busy": "2022-11-13T09:06:35.993050Z",
     "iopub.status.idle": "2022-11-13T09:06:36.022695Z",
     "shell.execute_reply": "2022-11-13T09:06:36.021561Z"
    },
    "papermill": {
     "duration": 0.04926,
     "end_time": "2022-11-13T09:06:36.025160",
     "exception": false,
     "start_time": "2022-11-13T09:06:35.975900",
     "status": "completed"
    },
    "tags": []
   },
   "outputs": [
    {
     "data": {
      "text/html": [
       "<div>\n",
       "<style scoped>\n",
       "    .dataframe tbody tr th:only-of-type {\n",
       "        vertical-align: middle;\n",
       "    }\n",
       "\n",
       "    .dataframe tbody tr th {\n",
       "        vertical-align: top;\n",
       "    }\n",
       "\n",
       "    .dataframe thead th {\n",
       "        text-align: right;\n",
       "    }\n",
       "</style>\n",
       "<table border=\"1\" class=\"dataframe\">\n",
       "  <thead>\n",
       "    <tr style=\"text-align: right;\">\n",
       "      <th></th>\n",
       "      <th>sepal_length</th>\n",
       "      <th>sepal_width</th>\n",
       "      <th>petal_length</th>\n",
       "      <th>petal_width</th>\n",
       "      <th>species</th>\n",
       "    </tr>\n",
       "  </thead>\n",
       "  <tbody>\n",
       "    <tr>\n",
       "      <th>100</th>\n",
       "      <td>6.3</td>\n",
       "      <td>3.3</td>\n",
       "      <td>6.0</td>\n",
       "      <td>2.5</td>\n",
       "      <td>Iris-virginica</td>\n",
       "    </tr>\n",
       "    <tr>\n",
       "      <th>102</th>\n",
       "      <td>7.1</td>\n",
       "      <td>3.0</td>\n",
       "      <td>5.9</td>\n",
       "      <td>2.1</td>\n",
       "      <td>Iris-virginica</td>\n",
       "    </tr>\n",
       "    <tr>\n",
       "      <th>104</th>\n",
       "      <td>6.5</td>\n",
       "      <td>3.0</td>\n",
       "      <td>5.8</td>\n",
       "      <td>2.2</td>\n",
       "      <td>Iris-virginica</td>\n",
       "    </tr>\n",
       "    <tr>\n",
       "      <th>105</th>\n",
       "      <td>7.6</td>\n",
       "      <td>3.0</td>\n",
       "      <td>6.6</td>\n",
       "      <td>2.1</td>\n",
       "      <td>Iris-virginica</td>\n",
       "    </tr>\n",
       "    <tr>\n",
       "      <th>109</th>\n",
       "      <td>7.2</td>\n",
       "      <td>3.6</td>\n",
       "      <td>6.1</td>\n",
       "      <td>2.5</td>\n",
       "      <td>Iris-virginica</td>\n",
       "    </tr>\n",
       "    <tr>\n",
       "      <th>112</th>\n",
       "      <td>6.8</td>\n",
       "      <td>3.0</td>\n",
       "      <td>5.5</td>\n",
       "      <td>2.1</td>\n",
       "      <td>Iris-virginica</td>\n",
       "    </tr>\n",
       "    <tr>\n",
       "      <th>114</th>\n",
       "      <td>5.8</td>\n",
       "      <td>2.8</td>\n",
       "      <td>5.1</td>\n",
       "      <td>2.4</td>\n",
       "      <td>Iris-virginica</td>\n",
       "    </tr>\n",
       "    <tr>\n",
       "      <th>115</th>\n",
       "      <td>6.4</td>\n",
       "      <td>3.2</td>\n",
       "      <td>5.3</td>\n",
       "      <td>2.3</td>\n",
       "      <td>Iris-virginica</td>\n",
       "    </tr>\n",
       "    <tr>\n",
       "      <th>117</th>\n",
       "      <td>7.7</td>\n",
       "      <td>3.8</td>\n",
       "      <td>6.7</td>\n",
       "      <td>2.2</td>\n",
       "      <td>Iris-virginica</td>\n",
       "    </tr>\n",
       "    <tr>\n",
       "      <th>118</th>\n",
       "      <td>7.7</td>\n",
       "      <td>2.6</td>\n",
       "      <td>6.9</td>\n",
       "      <td>2.3</td>\n",
       "      <td>Iris-virginica</td>\n",
       "    </tr>\n",
       "    <tr>\n",
       "      <th>120</th>\n",
       "      <td>6.9</td>\n",
       "      <td>3.2</td>\n",
       "      <td>5.7</td>\n",
       "      <td>2.3</td>\n",
       "      <td>Iris-virginica</td>\n",
       "    </tr>\n",
       "    <tr>\n",
       "      <th>124</th>\n",
       "      <td>6.7</td>\n",
       "      <td>3.3</td>\n",
       "      <td>5.7</td>\n",
       "      <td>2.1</td>\n",
       "      <td>Iris-virginica</td>\n",
       "    </tr>\n",
       "    <tr>\n",
       "      <th>128</th>\n",
       "      <td>6.4</td>\n",
       "      <td>2.8</td>\n",
       "      <td>5.6</td>\n",
       "      <td>2.1</td>\n",
       "      <td>Iris-virginica</td>\n",
       "    </tr>\n",
       "    <tr>\n",
       "      <th>132</th>\n",
       "      <td>6.4</td>\n",
       "      <td>2.8</td>\n",
       "      <td>5.6</td>\n",
       "      <td>2.2</td>\n",
       "      <td>Iris-virginica</td>\n",
       "    </tr>\n",
       "    <tr>\n",
       "      <th>135</th>\n",
       "      <td>7.7</td>\n",
       "      <td>3.0</td>\n",
       "      <td>6.1</td>\n",
       "      <td>2.3</td>\n",
       "      <td>Iris-virginica</td>\n",
       "    </tr>\n",
       "    <tr>\n",
       "      <th>136</th>\n",
       "      <td>6.3</td>\n",
       "      <td>3.4</td>\n",
       "      <td>5.6</td>\n",
       "      <td>2.4</td>\n",
       "      <td>Iris-virginica</td>\n",
       "    </tr>\n",
       "    <tr>\n",
       "      <th>139</th>\n",
       "      <td>6.9</td>\n",
       "      <td>3.1</td>\n",
       "      <td>5.4</td>\n",
       "      <td>2.1</td>\n",
       "      <td>Iris-virginica</td>\n",
       "    </tr>\n",
       "    <tr>\n",
       "      <th>140</th>\n",
       "      <td>6.7</td>\n",
       "      <td>3.1</td>\n",
       "      <td>5.6</td>\n",
       "      <td>2.4</td>\n",
       "      <td>Iris-virginica</td>\n",
       "    </tr>\n",
       "    <tr>\n",
       "      <th>141</th>\n",
       "      <td>6.9</td>\n",
       "      <td>3.1</td>\n",
       "      <td>5.1</td>\n",
       "      <td>2.3</td>\n",
       "      <td>Iris-virginica</td>\n",
       "    </tr>\n",
       "    <tr>\n",
       "      <th>143</th>\n",
       "      <td>6.8</td>\n",
       "      <td>3.2</td>\n",
       "      <td>5.9</td>\n",
       "      <td>2.3</td>\n",
       "      <td>Iris-virginica</td>\n",
       "    </tr>\n",
       "    <tr>\n",
       "      <th>144</th>\n",
       "      <td>6.7</td>\n",
       "      <td>3.3</td>\n",
       "      <td>5.7</td>\n",
       "      <td>2.5</td>\n",
       "      <td>Iris-virginica</td>\n",
       "    </tr>\n",
       "    <tr>\n",
       "      <th>145</th>\n",
       "      <td>6.7</td>\n",
       "      <td>3.0</td>\n",
       "      <td>5.2</td>\n",
       "      <td>2.3</td>\n",
       "      <td>Iris-virginica</td>\n",
       "    </tr>\n",
       "    <tr>\n",
       "      <th>148</th>\n",
       "      <td>6.2</td>\n",
       "      <td>3.4</td>\n",
       "      <td>5.4</td>\n",
       "      <td>2.3</td>\n",
       "      <td>Iris-virginica</td>\n",
       "    </tr>\n",
       "  </tbody>\n",
       "</table>\n",
       "</div>"
      ],
      "text/plain": [
       "     sepal_length  sepal_width  petal_length  petal_width         species\n",
       "100           6.3          3.3           6.0          2.5  Iris-virginica\n",
       "102           7.1          3.0           5.9          2.1  Iris-virginica\n",
       "104           6.5          3.0           5.8          2.2  Iris-virginica\n",
       "105           7.6          3.0           6.6          2.1  Iris-virginica\n",
       "109           7.2          3.6           6.1          2.5  Iris-virginica\n",
       "112           6.8          3.0           5.5          2.1  Iris-virginica\n",
       "114           5.8          2.8           5.1          2.4  Iris-virginica\n",
       "115           6.4          3.2           5.3          2.3  Iris-virginica\n",
       "117           7.7          3.8           6.7          2.2  Iris-virginica\n",
       "118           7.7          2.6           6.9          2.3  Iris-virginica\n",
       "120           6.9          3.2           5.7          2.3  Iris-virginica\n",
       "124           6.7          3.3           5.7          2.1  Iris-virginica\n",
       "128           6.4          2.8           5.6          2.1  Iris-virginica\n",
       "132           6.4          2.8           5.6          2.2  Iris-virginica\n",
       "135           7.7          3.0           6.1          2.3  Iris-virginica\n",
       "136           6.3          3.4           5.6          2.4  Iris-virginica\n",
       "139           6.9          3.1           5.4          2.1  Iris-virginica\n",
       "140           6.7          3.1           5.6          2.4  Iris-virginica\n",
       "141           6.9          3.1           5.1          2.3  Iris-virginica\n",
       "143           6.8          3.2           5.9          2.3  Iris-virginica\n",
       "144           6.7          3.3           5.7          2.5  Iris-virginica\n",
       "145           6.7          3.0           5.2          2.3  Iris-virginica\n",
       "148           6.2          3.4           5.4          2.3  Iris-virginica"
      ]
     },
     "execution_count": 6,
     "metadata": {},
     "output_type": "execute_result"
    }
   ],
   "source": [
    "df[df['petal_width']>2]"
   ]
  },
  {
   "cell_type": "markdown",
   "id": "090c7e70",
   "metadata": {
    "papermill": {
     "duration": 0.01145,
     "end_time": "2022-11-13T09:06:36.051332",
     "exception": false,
     "start_time": "2022-11-13T09:06:36.039882",
     "status": "completed"
    },
    "tags": []
   },
   "source": [
    "So we can see all the species having petal_width greater than 2 are from species Iris virginica"
   ]
  },
  {
   "cell_type": "markdown",
   "id": "97568d92",
   "metadata": {
    "papermill": {
     "duration": 0.011738,
     "end_time": "2022-11-13T09:06:36.075300",
     "exception": false,
     "start_time": "2022-11-13T09:06:36.063562",
     "status": "completed"
    },
    "tags": []
   },
   "source": [
    "Now we will do some data visualization"
   ]
  },
  {
   "cell_type": "code",
   "execution_count": 7,
   "id": "942da199",
   "metadata": {
    "execution": {
     "iopub.execute_input": "2022-11-13T09:06:36.101636Z",
     "iopub.status.busy": "2022-11-13T09:06:36.101260Z",
     "iopub.status.idle": "2022-11-13T09:06:37.139274Z",
     "shell.execute_reply": "2022-11-13T09:06:37.138168Z"
    },
    "papermill": {
     "duration": 1.054701,
     "end_time": "2022-11-13T09:06:37.142083",
     "exception": false,
     "start_time": "2022-11-13T09:06:36.087382",
     "status": "completed"
    },
    "tags": []
   },
   "outputs": [],
   "source": [
    "# importing library for data vizualization\n",
    "\n",
    "from matplotlib import pyplot as plt\n",
    "import seaborn as sns"
   ]
  },
  {
   "cell_type": "markdown",
   "id": "54c5e5aa",
   "metadata": {
    "papermill": {
     "duration": 0.01172,
     "end_time": "2022-11-13T09:06:37.165930",
     "exception": false,
     "start_time": "2022-11-13T09:06:37.154210",
     "status": "completed"
    },
    "tags": []
   },
   "source": [
    "We will see the relationship between petal_length and sepal_length for diffrent species"
   ]
  },
  {
   "cell_type": "code",
   "execution_count": 8,
   "id": "4b470bd3",
   "metadata": {
    "execution": {
     "iopub.execute_input": "2022-11-13T09:06:37.192287Z",
     "iopub.status.busy": "2022-11-13T09:06:37.191637Z",
     "iopub.status.idle": "2022-11-13T09:06:37.525467Z",
     "shell.execute_reply": "2022-11-13T09:06:37.524047Z"
    },
    "papermill": {
     "duration": 0.350248,
     "end_time": "2022-11-13T09:06:37.528150",
     "exception": false,
     "start_time": "2022-11-13T09:06:37.177902",
     "status": "completed"
    },
    "tags": []
   },
   "outputs": [
    {
     "data": {
      "image/png": "[encoded data removed]",
      "text/plain": [
       "<Figure size 432x288 with 1 Axes>"
      ]
     },
     "metadata": {
      "needs_background": "light"
     },
     "output_type": "display_data"
    }
   ],
   "source": [
    "#scatter plot for diffrent species\n",
    "sns.scatterplot(x = 'sepal_length', y = 'petal_length', data = df, hue = 'species')\n",
    "plt.show()"
   ]
  },
  {
   "cell_type": "markdown",
   "id": "c4c7240c",
   "metadata": {
    "papermill": {
     "duration": 0.011831,
     "end_time": "2022-11-13T09:06:37.552619",
     "exception": false,
     "start_time": "2022-11-13T09:06:37.540788",
     "status": "completed"
    },
    "tags": []
   },
   "source": [
    "As we can see the relationship seems linear as petal_length incresing sepal_length also increasing\n"
   ]
  },
  {
   "cell_type": "markdown",
   "id": "36fb4d15",
   "metadata": {
    "papermill": {
     "duration": 0.011944,
     "end_time": "2022-11-13T09:06:37.577010",
     "exception": false,
     "start_time": "2022-11-13T09:06:37.565066",
     "status": "completed"
    },
    "tags": []
   },
   "source": [
    "#  Linear Regression"
   ]
  },
  {
   "cell_type": "markdown",
   "id": "83fbd6d5",
   "metadata": {
    "papermill": {
     "duration": 0.014581,
     "end_time": "2022-11-13T09:06:37.604725",
     "exception": false,
     "start_time": "2022-11-13T09:06:37.590144",
     "status": "completed"
    },
    "tags": []
   },
   "source": [
    "Now we will make a linear Regression model to find out how sepal_length vary with sepal width\n",
    "so dependent varibale will be sepal_length and independent variable will be sepal_width\n",
    "i.e how sepal_length value changing with sepal_width"
   ]
  },
  {
   "cell_type": "code",
   "execution_count": 9,
   "id": "371d0b78",
   "metadata": {
    "execution": {
     "iopub.execute_input": "2022-11-13T09:06:37.632642Z",
     "iopub.status.busy": "2022-11-13T09:06:37.631820Z",
     "iopub.status.idle": "2022-11-13T09:06:37.650878Z",
     "shell.execute_reply": "2022-11-13T09:06:37.649272Z"
    },
    "papermill": {
     "duration": 0.036037,
     "end_time": "2022-11-13T09:06:37.653628",
     "exception": false,
     "start_time": "2022-11-13T09:06:37.617591",
     "status": "completed"
    },
    "tags": []
   },
   "outputs": [
    {
     "data": {
      "text/html": [
       "<div>\n",
       "<style scoped>\n",
       "    .dataframe tbody tr th:only-of-type {\n",
       "        vertical-align: middle;\n",
       "    }\n",
       "\n",
       "    .dataframe tbody tr th {\n",
       "        vertical-align: top;\n",
       "    }\n",
       "\n",
       "    .dataframe thead th {\n",
       "        text-align: right;\n",
       "    }\n",
       "</style>\n",
       "<table border=\"1\" class=\"dataframe\">\n",
       "  <thead>\n",
       "    <tr style=\"text-align: right;\">\n",
       "      <th></th>\n",
       "      <th>sepal_length</th>\n",
       "      <th>sepal_width</th>\n",
       "      <th>petal_length</th>\n",
       "      <th>petal_width</th>\n",
       "      <th>species</th>\n",
       "    </tr>\n",
       "  </thead>\n",
       "  <tbody>\n",
       "    <tr>\n",
       "      <th>0</th>\n",
       "      <td>5.1</td>\n",
       "      <td>3.5</td>\n",
       "      <td>1.4</td>\n",
       "      <td>0.2</td>\n",
       "      <td>Iris-setosa</td>\n",
       "    </tr>\n",
       "    <tr>\n",
       "      <th>1</th>\n",
       "      <td>4.9</td>\n",
       "      <td>3.0</td>\n",
       "      <td>1.4</td>\n",
       "      <td>0.2</td>\n",
       "      <td>Iris-setosa</td>\n",
       "    </tr>\n",
       "    <tr>\n",
       "      <th>2</th>\n",
       "      <td>4.7</td>\n",
       "      <td>3.2</td>\n",
       "      <td>1.3</td>\n",
       "      <td>0.2</td>\n",
       "      <td>Iris-setosa</td>\n",
       "    </tr>\n",
       "    <tr>\n",
       "      <th>3</th>\n",
       "      <td>4.6</td>\n",
       "      <td>3.1</td>\n",
       "      <td>1.5</td>\n",
       "      <td>0.2</td>\n",
       "      <td>Iris-setosa</td>\n",
       "    </tr>\n",
       "    <tr>\n",
       "      <th>4</th>\n",
       "      <td>5.0</td>\n",
       "      <td>3.6</td>\n",
       "      <td>1.4</td>\n",
       "      <td>0.2</td>\n",
       "      <td>Iris-setosa</td>\n",
       "    </tr>\n",
       "  </tbody>\n",
       "</table>\n",
       "</div>"
      ],
      "text/plain": [
       "   sepal_length  sepal_width  petal_length  petal_width      species\n",
       "0           5.1          3.5           1.4          0.2  Iris-setosa\n",
       "1           4.9          3.0           1.4          0.2  Iris-setosa\n",
       "2           4.7          3.2           1.3          0.2  Iris-setosa\n",
       "3           4.6          3.1           1.5          0.2  Iris-setosa\n",
       "4           5.0          3.6           1.4          0.2  Iris-setosa"
      ]
     },
     "execution_count": 9,
     "metadata": {},
     "output_type": "execute_result"
    }
   ],
   "source": [
    "# checking the data\n",
    "\n",
    "df.head()"
   ]
  },
  {
   "cell_type": "markdown",
   "id": "0c090b85",
   "metadata": {
    "papermill": {
     "duration": 0.01769,
     "end_time": "2022-11-13T09:06:37.687562",
     "exception": false,
     "start_time": "2022-11-13T09:06:37.669872",
     "status": "completed"
    },
    "tags": []
   },
   "source": [
    "First we will assign our dependent that is sepal_length and independent that is sepal_width to varibale x and y"
   ]
  },
  {
   "cell_type": "code",
   "execution_count": 10,
   "id": "6eef2d86",
   "metadata": {
    "execution": {
     "iopub.execute_input": "2022-11-13T09:06:37.714807Z",
     "iopub.status.busy": "2022-11-13T09:06:37.714041Z",
     "iopub.status.idle": "2022-11-13T09:06:37.720805Z",
     "shell.execute_reply": "2022-11-13T09:06:37.719873Z"
    },
    "papermill": {
     "duration": 0.023113,
     "end_time": "2022-11-13T09:06:37.723185",
     "exception": false,
     "start_time": "2022-11-13T09:06:37.700072",
     "status": "completed"
    },
    "tags": []
   },
   "outputs": [],
   "source": [
    "y = df[['sepal_length']]\n",
    "x = df[['sepal_width']]"
   ]
  },
  {
   "cell_type": "markdown",
   "id": "584440a0",
   "metadata": {
    "papermill": {
     "duration": 0.012078,
     "end_time": "2022-11-13T09:06:37.748088",
     "exception": false,
     "start_time": "2022-11-13T09:06:37.736010",
     "status": "completed"
    },
    "tags": []
   },
   "source": [
    "Then we will split our data set to training and testing test\n",
    "\n",
    "By splitting the dataset randomly into a two separate sets, we can train using one set and test using another.\n",
    "This ensures that we won't use the same observations in both sets. More flexible and faster than creating a model using all of the dataset for training."
   ]
  },
  {
   "cell_type": "code",
   "execution_count": 11,
   "id": "ef34ffea",
   "metadata": {
    "execution": {
     "iopub.execute_input": "2022-11-13T09:06:37.774483Z",
     "iopub.status.busy": "2022-11-13T09:06:37.774074Z",
     "iopub.status.idle": "2022-11-13T09:06:37.964080Z",
     "shell.execute_reply": "2022-11-13T09:06:37.962888Z"
    },
    "papermill": {
     "duration": 0.20804,
     "end_time": "2022-11-13T09:06:37.968551",
     "exception": false,
     "start_time": "2022-11-13T09:06:37.760511",
     "status": "completed"
    },
    "tags": []
   },
   "outputs": [],
   "source": [
    "#importing necessary libraries\n",
    "#model_selection is a sub module inside sklearn having train_test_split as a method\n",
    "\n",
    "from sklearn.model_selection import train_test_split\n"
   ]
  },
  {
   "cell_type": "code",
   "execution_count": 12,
   "id": "3de059ea",
   "metadata": {
    "execution": {
     "iopub.execute_input": "2022-11-13T09:06:37.999188Z",
     "iopub.status.busy": "2022-11-13T09:06:37.998019Z",
     "iopub.status.idle": "2022-11-13T09:06:38.010249Z",
     "shell.execute_reply": "2022-11-13T09:06:38.009098Z"
    },
    "papermill": {
     "duration": 0.029373,
     "end_time": "2022-11-13T09:06:38.013017",
     "exception": false,
     "start_time": "2022-11-13T09:06:37.983644",
     "status": "completed"
    },
    "tags": []
   },
   "outputs": [
    {
     "name": "stdout",
     "output_type": "stream",
     "text": [
      "(105, 1)\n",
      "(105, 1)\n",
      "(45, 1)\n",
      "(45, 1)\n"
     ]
    }
   ],
   "source": [
    "#splitting data into training and testing set\n",
    "\n",
    "x_train,x_test,y_train,y_test = train_test_split(x,y,test_size = 0.3, random_state = 10)\n",
    "print(x_train.shape)\n",
    "print(y_train.shape)\n",
    "print(x_test.shape)\n",
    "print(y_test.shape)"
   ]
  },
  {
   "cell_type": "code",
   "execution_count": 13,
   "id": "6e89677d",
   "metadata": {
    "execution": {
     "iopub.execute_input": "2022-11-13T09:06:38.042051Z",
     "iopub.status.busy": "2022-11-13T09:06:38.041283Z",
     "iopub.status.idle": "2022-11-13T09:06:38.051391Z",
     "shell.execute_reply": "2022-11-13T09:06:38.050279Z"
    },
    "papermill": {
     "duration": 0.027709,
     "end_time": "2022-11-13T09:06:38.054482",
     "exception": false,
     "start_time": "2022-11-13T09:06:38.026773",
     "status": "completed"
    },
    "tags": []
   },
   "outputs": [
    {
     "data": {
      "text/html": [
       "<div>\n",
       "<style scoped>\n",
       "    .dataframe tbody tr th:only-of-type {\n",
       "        vertical-align: middle;\n",
       "    }\n",
       "\n",
       "    .dataframe tbody tr th {\n",
       "        vertical-align: top;\n",
       "    }\n",
       "\n",
       "    .dataframe thead th {\n",
       "        text-align: right;\n",
       "    }\n",
       "</style>\n",
       "<table border=\"1\" class=\"dataframe\">\n",
       "  <thead>\n",
       "    <tr style=\"text-align: right;\">\n",
       "      <th></th>\n",
       "      <th>sepal_width</th>\n",
       "    </tr>\n",
       "  </thead>\n",
       "  <tbody>\n",
       "    <tr>\n",
       "      <th>32</th>\n",
       "      <td>4.1</td>\n",
       "    </tr>\n",
       "    <tr>\n",
       "      <th>52</th>\n",
       "      <td>3.1</td>\n",
       "    </tr>\n",
       "    <tr>\n",
       "      <th>70</th>\n",
       "      <td>3.2</td>\n",
       "    </tr>\n",
       "    <tr>\n",
       "      <th>121</th>\n",
       "      <td>2.8</td>\n",
       "    </tr>\n",
       "    <tr>\n",
       "      <th>144</th>\n",
       "      <td>3.3</td>\n",
       "    </tr>\n",
       "  </tbody>\n",
       "</table>\n",
       "</div>"
      ],
      "text/plain": [
       "     sepal_width\n",
       "32           4.1\n",
       "52           3.1\n",
       "70           3.2\n",
       "121          2.8\n",
       "144          3.3"
      ]
     },
     "execution_count": 13,
     "metadata": {},
     "output_type": "execute_result"
    }
   ],
   "source": [
    "#checking our splitted data\n",
    "\n",
    "x_train.head()"
   ]
  },
  {
   "cell_type": "code",
   "execution_count": 14,
   "id": "8cdda5a4",
   "metadata": {
    "execution": {
     "iopub.execute_input": "2022-11-13T09:06:38.087344Z",
     "iopub.status.busy": "2022-11-13T09:06:38.086419Z",
     "iopub.status.idle": "2022-11-13T09:06:38.098950Z",
     "shell.execute_reply": "2022-11-13T09:06:38.097859Z"
    },
    "papermill": {
     "duration": 0.0308,
     "end_time": "2022-11-13T09:06:38.102060",
     "exception": false,
     "start_time": "2022-11-13T09:06:38.071260",
     "status": "completed"
    },
    "tags": []
   },
   "outputs": [
    {
     "data": {
      "text/html": [
       "<div>\n",
       "<style scoped>\n",
       "    .dataframe tbody tr th:only-of-type {\n",
       "        vertical-align: middle;\n",
       "    }\n",
       "\n",
       "    .dataframe tbody tr th {\n",
       "        vertical-align: top;\n",
       "    }\n",
       "\n",
       "    .dataframe thead th {\n",
       "        text-align: right;\n",
       "    }\n",
       "</style>\n",
       "<table border=\"1\" class=\"dataframe\">\n",
       "  <thead>\n",
       "    <tr style=\"text-align: right;\">\n",
       "      <th></th>\n",
       "      <th>sepal_length</th>\n",
       "    </tr>\n",
       "  </thead>\n",
       "  <tbody>\n",
       "    <tr>\n",
       "      <th>32</th>\n",
       "      <td>5.2</td>\n",
       "    </tr>\n",
       "    <tr>\n",
       "      <th>52</th>\n",
       "      <td>6.9</td>\n",
       "    </tr>\n",
       "    <tr>\n",
       "      <th>70</th>\n",
       "      <td>5.9</td>\n",
       "    </tr>\n",
       "    <tr>\n",
       "      <th>121</th>\n",
       "      <td>5.6</td>\n",
       "    </tr>\n",
       "    <tr>\n",
       "      <th>144</th>\n",
       "      <td>6.7</td>\n",
       "    </tr>\n",
       "  </tbody>\n",
       "</table>\n",
       "</div>"
      ],
      "text/plain": [
       "     sepal_length\n",
       "32            5.2\n",
       "52            6.9\n",
       "70            5.9\n",
       "121           5.6\n",
       "144           6.7"
      ]
     },
     "execution_count": 14,
     "metadata": {},
     "output_type": "execute_result"
    }
   ],
   "source": [
    "y_train.head()"
   ]
  },
  {
   "cell_type": "code",
   "execution_count": 15,
   "id": "d9dd44e7",
   "metadata": {
    "execution": {
     "iopub.execute_input": "2022-11-13T09:06:38.136050Z",
     "iopub.status.busy": "2022-11-13T09:06:38.135148Z",
     "iopub.status.idle": "2022-11-13T09:06:38.146470Z",
     "shell.execute_reply": "2022-11-13T09:06:38.145381Z"
    },
    "papermill": {
     "duration": 0.03126,
     "end_time": "2022-11-13T09:06:38.148861",
     "exception": false,
     "start_time": "2022-11-13T09:06:38.117601",
     "status": "completed"
    },
    "tags": []
   },
   "outputs": [
    {
     "data": {
      "text/html": [
       "<div>\n",
       "<style scoped>\n",
       "    .dataframe tbody tr th:only-of-type {\n",
       "        vertical-align: middle;\n",
       "    }\n",
       "\n",
       "    .dataframe tbody tr th {\n",
       "        vertical-align: top;\n",
       "    }\n",
       "\n",
       "    .dataframe thead th {\n",
       "        text-align: right;\n",
       "    }\n",
       "</style>\n",
       "<table border=\"1\" class=\"dataframe\">\n",
       "  <thead>\n",
       "    <tr style=\"text-align: right;\">\n",
       "      <th></th>\n",
       "      <th>sepal_width</th>\n",
       "    </tr>\n",
       "  </thead>\n",
       "  <tbody>\n",
       "    <tr>\n",
       "      <th>87</th>\n",
       "      <td>2.3</td>\n",
       "    </tr>\n",
       "    <tr>\n",
       "      <th>111</th>\n",
       "      <td>2.7</td>\n",
       "    </tr>\n",
       "    <tr>\n",
       "      <th>10</th>\n",
       "      <td>3.7</td>\n",
       "    </tr>\n",
       "    <tr>\n",
       "      <th>91</th>\n",
       "      <td>3.0</td>\n",
       "    </tr>\n",
       "    <tr>\n",
       "      <th>49</th>\n",
       "      <td>3.3</td>\n",
       "    </tr>\n",
       "  </tbody>\n",
       "</table>\n",
       "</div>"
      ],
      "text/plain": [
       "     sepal_width\n",
       "87           2.3\n",
       "111          2.7\n",
       "10           3.7\n",
       "91           3.0\n",
       "49           3.3"
      ]
     },
     "execution_count": 15,
     "metadata": {},
     "output_type": "execute_result"
    }
   ],
   "source": [
    "x_test.head()"
   ]
  },
  {
   "cell_type": "code",
   "execution_count": 16,
   "id": "2b1c2dfe",
   "metadata": {
    "execution": {
     "iopub.execute_input": "2022-11-13T09:06:38.177261Z",
     "iopub.status.busy": "2022-11-13T09:06:38.176471Z",
     "iopub.status.idle": "2022-11-13T09:06:38.187596Z",
     "shell.execute_reply": "2022-11-13T09:06:38.186429Z"
    },
    "papermill": {
     "duration": 0.028111,
     "end_time": "2022-11-13T09:06:38.190040",
     "exception": false,
     "start_time": "2022-11-13T09:06:38.161929",
     "status": "completed"
    },
    "tags": []
   },
   "outputs": [
    {
     "data": {
      "text/html": [
       "<div>\n",
       "<style scoped>\n",
       "    .dataframe tbody tr th:only-of-type {\n",
       "        vertical-align: middle;\n",
       "    }\n",
       "\n",
       "    .dataframe tbody tr th {\n",
       "        vertical-align: top;\n",
       "    }\n",
       "\n",
       "    .dataframe thead th {\n",
       "        text-align: right;\n",
       "    }\n",
       "</style>\n",
       "<table border=\"1\" class=\"dataframe\">\n",
       "  <thead>\n",
       "    <tr style=\"text-align: right;\">\n",
       "      <th></th>\n",
       "      <th>sepal_length</th>\n",
       "    </tr>\n",
       "  </thead>\n",
       "  <tbody>\n",
       "    <tr>\n",
       "      <th>87</th>\n",
       "      <td>6.3</td>\n",
       "    </tr>\n",
       "    <tr>\n",
       "      <th>111</th>\n",
       "      <td>6.4</td>\n",
       "    </tr>\n",
       "    <tr>\n",
       "      <th>10</th>\n",
       "      <td>5.4</td>\n",
       "    </tr>\n",
       "    <tr>\n",
       "      <th>91</th>\n",
       "      <td>6.1</td>\n",
       "    </tr>\n",
       "    <tr>\n",
       "      <th>49</th>\n",
       "      <td>5.0</td>\n",
       "    </tr>\n",
       "  </tbody>\n",
       "</table>\n",
       "</div>"
      ],
      "text/plain": [
       "     sepal_length\n",
       "87            6.3\n",
       "111           6.4\n",
       "10            5.4\n",
       "91            6.1\n",
       "49            5.0"
      ]
     },
     "execution_count": 16,
     "metadata": {},
     "output_type": "execute_result"
    }
   ],
   "source": [
    "y_test.head()"
   ]
  },
  {
   "cell_type": "code",
   "execution_count": 17,
   "id": "430bc5b4",
   "metadata": {
    "execution": {
     "iopub.execute_input": "2022-11-13T09:06:38.218904Z",
     "iopub.status.busy": "2022-11-13T09:06:38.218128Z",
     "iopub.status.idle": "2022-11-13T09:06:38.296553Z",
     "shell.execute_reply": "2022-11-13T09:06:38.295698Z"
    },
    "papermill": {
     "duration": 0.095861,
     "end_time": "2022-11-13T09:06:38.299166",
     "exception": false,
     "start_time": "2022-11-13T09:06:38.203305",
     "status": "completed"
    },
    "tags": []
   },
   "outputs": [],
   "source": [
    "#importing libarary to build linear Regression model\n",
    "\n",
    "from sklearn.linear_model import LinearRegression"
   ]
  },
  {
   "cell_type": "code",
   "execution_count": 18,
   "id": "c3b2361c",
   "metadata": {
    "execution": {
     "iopub.execute_input": "2022-11-13T09:06:38.328263Z",
     "iopub.status.busy": "2022-11-13T09:06:38.327461Z",
     "iopub.status.idle": "2022-11-13T09:06:38.332516Z",
     "shell.execute_reply": "2022-11-13T09:06:38.331673Z"
    },
    "papermill": {
     "duration": 0.022264,
     "end_time": "2022-11-13T09:06:38.334863",
     "exception": false,
     "start_time": "2022-11-13T09:06:38.312599",
     "status": "completed"
    },
    "tags": []
   },
   "outputs": [],
   "source": [
    "#creating and instance of our model\n",
    "\n",
    "lr = LinearRegression()"
   ]
  },
  {
   "cell_type": "markdown",
   "id": "7cf8449c",
   "metadata": {
    "papermill": {
     "duration": 0.012986,
     "end_time": "2022-11-13T09:06:38.361179",
     "exception": false,
     "start_time": "2022-11-13T09:06:38.348193",
     "status": "completed"
    },
    "tags": []
   },
   "source": [
    "Now we will fit our model. model fitting is a measure of how well a machine learning model generalizes to similar data to thta on which it was trained\n",
    "\n",
    "a model that is well fitted produces more accurate outcomes.\n",
    "a model that is overfitted matches the data too closely "
   ]
  },
  {
   "cell_type": "code",
   "execution_count": 19,
   "id": "44675d34",
   "metadata": {
    "execution": {
     "iopub.execute_input": "2022-11-13T09:06:38.390081Z",
     "iopub.status.busy": "2022-11-13T09:06:38.389289Z",
     "iopub.status.idle": "2022-11-13T09:06:38.412996Z",
     "shell.execute_reply": "2022-11-13T09:06:38.412150Z"
    },
    "papermill": {
     "duration": 0.040992,
     "end_time": "2022-11-13T09:06:38.415604",
     "exception": false,
     "start_time": "2022-11-13T09:06:38.374612",
     "status": "completed"
    },
    "tags": []
   },
   "outputs": [
    {
     "data": {
      "text/plain": [
       "LinearRegression()"
      ]
     },
     "execution_count": 19,
     "metadata": {},
     "output_type": "execute_result"
    }
   ],
   "source": [
    "\n",
    "lr.fit(x_train,y_train)"
   ]
  },
  {
   "cell_type": "markdown",
   "id": "9b7608f3",
   "metadata": {
    "papermill": {
     "duration": 0.013056,
     "end_time": "2022-11-13T09:06:38.442485",
     "exception": false,
     "start_time": "2022-11-13T09:06:38.429429",
     "status": "completed"
    },
    "tags": []
   },
   "source": [
    "then we will predict the values on test's set of independent variable and store them in a variable y_pred"
   ]
  },
  {
   "cell_type": "code",
   "execution_count": 20,
   "id": "8d34e4b8",
   "metadata": {
    "execution": {
     "iopub.execute_input": "2022-11-13T09:06:38.471057Z",
     "iopub.status.busy": "2022-11-13T09:06:38.470540Z",
     "iopub.status.idle": "2022-11-13T09:06:38.481216Z",
     "shell.execute_reply": "2022-11-13T09:06:38.480105Z"
    },
    "papermill": {
     "duration": 0.027791,
     "end_time": "2022-11-13T09:06:38.483562",
     "exception": false,
     "start_time": "2022-11-13T09:06:38.455771",
     "status": "completed"
    },
    "tags": []
   },
   "outputs": [
    {
     "data": {
      "text/plain": [
       "array([[6.01804663],\n",
       "       [5.92831543],\n",
       "       [5.70398743],\n",
       "       [5.86101703],\n",
       "       [5.79371863],\n",
       "       [6.08534503],\n",
       "       [5.97318103],\n",
       "       [5.92831543],\n",
       "       [5.77128583],\n",
       "       [5.90588263],\n",
       "       [5.86101703],\n",
       "       [5.92831543],\n",
       "       [6.01804663],\n",
       "       [5.86101703],\n",
       "       [5.68155463],\n",
       "       [5.86101703],\n",
       "       [5.77128583],\n",
       "       [5.86101703],\n",
       "       [5.70398743],\n",
       "       [5.81615143],\n",
       "       [5.86101703],\n",
       "       [5.90588263],\n",
       "       [5.90588263],\n",
       "       [5.77128583],\n",
       "       [5.86101703],\n",
       "       [5.81615143],\n",
       "       [5.86101703],\n",
       "       [5.95074823],\n",
       "       [5.90588263],\n",
       "       [5.68155463],\n",
       "       [5.88344983],\n",
       "       [5.88344983],\n",
       "       [5.86101703],\n",
       "       [5.90588263],\n",
       "       [5.97318103],\n",
       "       [5.81615143],\n",
       "       [5.79371863],\n",
       "       [5.81615143],\n",
       "       [5.95074823],\n",
       "       [5.83858423],\n",
       "       [5.77128583],\n",
       "       [5.74885303],\n",
       "       [5.92831543],\n",
       "       [6.01804663],\n",
       "       [5.79371863]])"
      ]
     },
     "execution_count": 20,
     "metadata": {},
     "output_type": "execute_result"
    }
   ],
   "source": [
    "y_pred = lr.predict(x_test)\n",
    "y_pred\n",
    "\n"
   ]
  },
  {
   "cell_type": "markdown",
   "id": "e7c08b1a",
   "metadata": {
    "papermill": {
     "duration": 0.013183,
     "end_time": "2022-11-13T09:06:38.510584",
     "exception": false,
     "start_time": "2022-11-13T09:06:38.497401",
     "status": "completed"
    },
    "tags": []
   },
   "source": [
    "So these are our predicted values of sepal_length"
   ]
  },
  {
   "cell_type": "code",
   "execution_count": 21,
   "id": "81c41dba",
   "metadata": {
    "execution": {
     "iopub.execute_input": "2022-11-13T09:06:38.540027Z",
     "iopub.status.busy": "2022-11-13T09:06:38.538861Z",
     "iopub.status.idle": "2022-11-13T09:06:38.550280Z",
     "shell.execute_reply": "2022-11-13T09:06:38.549308Z"
    },
    "papermill": {
     "duration": 0.028326,
     "end_time": "2022-11-13T09:06:38.552385",
     "exception": false,
     "start_time": "2022-11-13T09:06:38.524059",
     "status": "completed"
    },
    "tags": []
   },
   "outputs": [
    {
     "data": {
      "text/html": [
       "<div>\n",
       "<style scoped>\n",
       "    .dataframe tbody tr th:only-of-type {\n",
       "        vertical-align: middle;\n",
       "    }\n",
       "\n",
       "    .dataframe tbody tr th {\n",
       "        vertical-align: top;\n",
       "    }\n",
       "\n",
       "    .dataframe thead th {\n",
       "        text-align: right;\n",
       "    }\n",
       "</style>\n",
       "<table border=\"1\" class=\"dataframe\">\n",
       "  <thead>\n",
       "    <tr style=\"text-align: right;\">\n",
       "      <th></th>\n",
       "      <th>sepal_length</th>\n",
       "    </tr>\n",
       "  </thead>\n",
       "  <tbody>\n",
       "    <tr>\n",
       "      <th>87</th>\n",
       "      <td>6.3</td>\n",
       "    </tr>\n",
       "    <tr>\n",
       "      <th>111</th>\n",
       "      <td>6.4</td>\n",
       "    </tr>\n",
       "    <tr>\n",
       "      <th>10</th>\n",
       "      <td>5.4</td>\n",
       "    </tr>\n",
       "    <tr>\n",
       "      <th>91</th>\n",
       "      <td>6.1</td>\n",
       "    </tr>\n",
       "    <tr>\n",
       "      <th>49</th>\n",
       "      <td>5.0</td>\n",
       "    </tr>\n",
       "  </tbody>\n",
       "</table>\n",
       "</div>"
      ],
      "text/plain": [
       "     sepal_length\n",
       "87            6.3\n",
       "111           6.4\n",
       "10            5.4\n",
       "91            6.1\n",
       "49            5.0"
      ]
     },
     "execution_count": 21,
     "metadata": {},
     "output_type": "execute_result"
    }
   ],
   "source": [
    "# these are actual values of sepal_length\n",
    "y_test.head()"
   ]
  },
  {
   "cell_type": "code",
   "execution_count": 22,
   "id": "799a7f8e",
   "metadata": {
    "execution": {
     "iopub.execute_input": "2022-11-13T09:06:38.582029Z",
     "iopub.status.busy": "2022-11-13T09:06:38.581278Z",
     "iopub.status.idle": "2022-11-13T09:06:38.588771Z",
     "shell.execute_reply": "2022-11-13T09:06:38.587711Z"
    },
    "papermill": {
     "duration": 0.025088,
     "end_time": "2022-11-13T09:06:38.590945",
     "exception": false,
     "start_time": "2022-11-13T09:06:38.565857",
     "status": "completed"
    },
    "tags": []
   },
   "outputs": [
    {
     "data": {
      "text/plain": [
       "array([[6.01804663],\n",
       "       [5.92831543],\n",
       "       [5.70398743],\n",
       "       [5.86101703],\n",
       "       [5.79371863]])"
      ]
     },
     "execution_count": 22,
     "metadata": {},
     "output_type": "execute_result"
    }
   ],
   "source": [
    "# checking the first 5 predicted values of sepal_length\n",
    "y_pred[0:5]"
   ]
  },
  {
   "cell_type": "markdown",
   "id": "7d2ce1fb",
   "metadata": {
    "papermill": {
     "duration": 0.013516,
     "end_time": "2022-11-13T09:06:38.618370",
     "exception": false,
     "start_time": "2022-11-13T09:06:38.604854",
     "status": "completed"
    },
    "tags": []
   },
   "source": [
    "Since we have our actual values of testing set and predicted values from training set now we can find out the error we have in our predicted values\n",
    "\n",
    "This we would do a by mean squared error- it is calculated by taking the average, specifically the mean, of errors squared from data\n",
    "\n",
    "the mean squared error measures how close a regression line is to a set of data points\n",
    "\n"
   ]
  },
  {
   "cell_type": "code",
   "execution_count": 23,
   "id": "f2dec926",
   "metadata": {
    "execution": {
     "iopub.execute_input": "2022-11-13T09:06:38.648252Z",
     "iopub.status.busy": "2022-11-13T09:06:38.647477Z",
     "iopub.status.idle": "2022-11-13T09:06:38.652526Z",
     "shell.execute_reply": "2022-11-13T09:06:38.651762Z"
    },
    "papermill": {
     "duration": 0.022467,
     "end_time": "2022-11-13T09:06:38.654765",
     "exception": false,
     "start_time": "2022-11-13T09:06:38.632298",
     "status": "completed"
    },
    "tags": []
   },
   "outputs": [],
   "source": [
    "#importing necessary library\n",
    "\n",
    "from sklearn.metrics import mean_squared_error"
   ]
  },
  {
   "cell_type": "code",
   "execution_count": 24,
   "id": "e86cb7bf",
   "metadata": {
    "execution": {
     "iopub.execute_input": "2022-11-13T09:06:38.684780Z",
     "iopub.status.busy": "2022-11-13T09:06:38.683940Z",
     "iopub.status.idle": "2022-11-13T09:06:38.692750Z",
     "shell.execute_reply": "2022-11-13T09:06:38.691717Z"
    },
    "papermill": {
     "duration": 0.02636,
     "end_time": "2022-11-13T09:06:38.695040",
     "exception": false,
     "start_time": "2022-11-13T09:06:38.668680",
     "status": "completed"
    },
    "tags": []
   },
   "outputs": [
    {
     "data": {
      "text/plain": [
       "0.7151575834189076"
      ]
     },
     "execution_count": 24,
     "metadata": {},
     "output_type": "execute_result"
    }
   ],
   "source": [
    "# checking error \n",
    "mean_squared_error(y_test, y_pred)"
   ]
  },
  {
   "cell_type": "markdown",
   "id": "0d383173",
   "metadata": {
    "papermill": {
     "duration": 0.013503,
     "end_time": "2022-11-13T09:06:38.722565",
     "exception": false,
     "start_time": "2022-11-13T09:06:38.709062",
     "status": "completed"
    },
    "tags": []
   },
   "source": [
    "So our error is ~0.7 now we will build another model by taking multiple features and check errors and will compare both which one is more correct"
   ]
  },
  {
   "cell_type": "markdown",
   "id": "eb99d7dc",
   "metadata": {
    "papermill": {
     "duration": 0.013485,
     "end_time": "2022-11-13T09:06:38.749928",
     "exception": false,
     "start_time": "2022-11-13T09:06:38.736443",
     "status": "completed"
    },
    "tags": []
   },
   "source": [
    "#  Multiple linear Regression"
   ]
  },
  {
   "cell_type": "markdown",
   "id": "a6af5458",
   "metadata": {
    "papermill": {
     "duration": 0.013592,
     "end_time": "2022-11-13T09:06:38.777411",
     "exception": false,
     "start_time": "2022-11-13T09:06:38.763819",
     "status": "completed"
    },
    "tags": []
   },
   "source": [
    "Now this time we will take more than one features as our independent varibale to predict the value of dependent variable that is sepal_length"
   ]
  },
  {
   "cell_type": "markdown",
   "id": "51dc3d0f",
   "metadata": {
    "papermill": {
     "duration": 0.0167,
     "end_time": "2022-11-13T09:06:38.808042",
     "exception": false,
     "start_time": "2022-11-13T09:06:38.791342",
     "status": "completed"
    },
    "tags": []
   },
   "source": [
    "So first we will assign values of dependent and independent varibale as we have done above "
   ]
  },
  {
   "cell_type": "code",
   "execution_count": 25,
   "id": "fb191d39",
   "metadata": {
    "execution": {
     "iopub.execute_input": "2022-11-13T09:06:38.839757Z",
     "iopub.status.busy": "2022-11-13T09:06:38.838633Z",
     "iopub.status.idle": "2022-11-13T09:06:38.844004Z",
     "shell.execute_reply": "2022-11-13T09:06:38.843184Z"
    },
    "papermill": {
     "duration": 0.023063,
     "end_time": "2022-11-13T09:06:38.846277",
     "exception": false,
     "start_time": "2022-11-13T09:06:38.823214",
     "status": "completed"
    },
    "tags": []
   },
   "outputs": [],
   "source": [
    "# dependent varibale\n",
    "y = df[['sepal_length']]"
   ]
  },
  {
   "cell_type": "code",
   "execution_count": 26,
   "id": "1b685087",
   "metadata": {
    "execution": {
     "iopub.execute_input": "2022-11-13T09:06:38.876927Z",
     "iopub.status.busy": "2022-11-13T09:06:38.875754Z",
     "iopub.status.idle": "2022-11-13T09:06:38.881949Z",
     "shell.execute_reply": "2022-11-13T09:06:38.880507Z"
    },
    "papermill": {
     "duration": 0.024262,
     "end_time": "2022-11-13T09:06:38.884696",
     "exception": false,
     "start_time": "2022-11-13T09:06:38.860434",
     "status": "completed"
    },
    "tags": []
   },
   "outputs": [],
   "source": [
    "#dependents variables\n",
    "x = df[['sepal_width','petal_length','petal_width']]"
   ]
  },
  {
   "cell_type": "code",
   "execution_count": 27,
   "id": "c2626234",
   "metadata": {
    "execution": {
     "iopub.execute_input": "2022-11-13T09:06:38.915765Z",
     "iopub.status.busy": "2022-11-13T09:06:38.914752Z",
     "iopub.status.idle": "2022-11-13T09:06:38.921259Z",
     "shell.execute_reply": "2022-11-13T09:06:38.919766Z"
    },
    "papermill": {
     "duration": 0.024784,
     "end_time": "2022-11-13T09:06:38.923581",
     "exception": false,
     "start_time": "2022-11-13T09:06:38.898797",
     "status": "completed"
    },
    "tags": []
   },
   "outputs": [],
   "source": [
    "# splitting data into training and testing test\n",
    "\n",
    "x_train,x_test,y_train,y_test = train_test_split(x,y,test_size = 0.3)"
   ]
  },
  {
   "cell_type": "code",
   "execution_count": 28,
   "id": "603efdc2",
   "metadata": {
    "execution": {
     "iopub.execute_input": "2022-11-13T09:06:38.954806Z",
     "iopub.status.busy": "2022-11-13T09:06:38.953518Z",
     "iopub.status.idle": "2022-11-13T09:06:38.958497Z",
     "shell.execute_reply": "2022-11-13T09:06:38.957699Z"
    },
    "papermill": {
     "duration": 0.02226,
     "end_time": "2022-11-13T09:06:38.960548",
     "exception": false,
     "start_time": "2022-11-13T09:06:38.938288",
     "status": "completed"
    },
    "tags": []
   },
   "outputs": [],
   "source": [
    "# creating an instance of a model\n",
    "\n",
    "lr2 = LinearRegression()"
   ]
  },
  {
   "cell_type": "code",
   "execution_count": 29,
   "id": "ccf9805e",
   "metadata": {
    "execution": {
     "iopub.execute_input": "2022-11-13T09:06:38.991614Z",
     "iopub.status.busy": "2022-11-13T09:06:38.990457Z",
     "iopub.status.idle": "2022-11-13T09:06:39.002076Z",
     "shell.execute_reply": "2022-11-13T09:06:39.001065Z"
    },
    "papermill": {
     "duration": 0.029867,
     "end_time": "2022-11-13T09:06:39.004335",
     "exception": false,
     "start_time": "2022-11-13T09:06:38.974468",
     "status": "completed"
    },
    "tags": []
   },
   "outputs": [],
   "source": [
    "#fitting a model\n",
    "\n",
    "lr2 = lr2.fit(x_train,y_train)"
   ]
  },
  {
   "cell_type": "code",
   "execution_count": 30,
   "id": "ac918823",
   "metadata": {
    "execution": {
     "iopub.execute_input": "2022-11-13T09:06:39.034677Z",
     "iopub.status.busy": "2022-11-13T09:06:39.033948Z",
     "iopub.status.idle": "2022-11-13T09:06:39.042613Z",
     "shell.execute_reply": "2022-11-13T09:06:39.041599Z"
    },
    "papermill": {
     "duration": 0.026077,
     "end_time": "2022-11-13T09:06:39.044702",
     "exception": false,
     "start_time": "2022-11-13T09:06:39.018625",
     "status": "completed"
    },
    "tags": []
   },
   "outputs": [
    {
     "data": {
      "text/plain": [
       "array([[6.75288409],\n",
       "       [6.19922188],\n",
       "       [6.09037569],\n",
       "       [6.32600155],\n",
       "       [6.62733023],\n",
       "       [6.21620679],\n",
       "       [5.09040241],\n",
       "       [4.62248045],\n",
       "       [6.8747061 ],\n",
       "       [4.75109482],\n",
       "       [7.91626527],\n",
       "       [5.30564317],\n",
       "       [4.74029338],\n",
       "       [6.0249501 ],\n",
       "       [6.93299966],\n",
       "       [5.21126785],\n",
       "       [6.279458  ],\n",
       "       [6.68534655],\n",
       "       [5.3935578 ],\n",
       "       [4.89852882],\n",
       "       [6.12706636],\n",
       "       [5.09468073],\n",
       "       [6.479619  ],\n",
       "       [5.48827279],\n",
       "       [5.66872804],\n",
       "       [6.4339616 ],\n",
       "       [5.48643809],\n",
       "       [6.14276302],\n",
       "       [5.54004322],\n",
       "       [6.02094101],\n",
       "       [6.18040226],\n",
       "       [5.76466083],\n",
       "       [4.92135752],\n",
       "       [5.61906155],\n",
       "       [5.2232951 ],\n",
       "       [6.77448699],\n",
       "       [5.73687447],\n",
       "       [5.88831755],\n",
       "       [5.37874727],\n",
       "       [5.2232951 ],\n",
       "       [4.68077401],\n",
       "       [6.25568073],\n",
       "       [4.8053793 ],\n",
       "       [5.02435991],\n",
       "       [5.23810564]])"
      ]
     },
     "execution_count": 30,
     "metadata": {},
     "output_type": "execute_result"
    }
   ],
   "source": [
    "# predicting a value of dependent varoable\n",
    "\n",
    "y_pred = lr2.predict(x_test)\n",
    "y_pred"
   ]
  },
  {
   "cell_type": "code",
   "execution_count": 31,
   "id": "d0979bef",
   "metadata": {
    "execution": {
     "iopub.execute_input": "2022-11-13T09:06:39.074375Z",
     "iopub.status.busy": "2022-11-13T09:06:39.073923Z",
     "iopub.status.idle": "2022-11-13T09:06:39.083467Z",
     "shell.execute_reply": "2022-11-13T09:06:39.082401Z"
    },
    "papermill": {
     "duration": 0.026951,
     "end_time": "2022-11-13T09:06:39.085697",
     "exception": false,
     "start_time": "2022-11-13T09:06:39.058746",
     "status": "completed"
    },
    "tags": []
   },
   "outputs": [
    {
     "data": {
      "text/plain": [
       "0.11354909936181332"
      ]
     },
     "execution_count": 31,
     "metadata": {},
     "output_type": "execute_result"
    }
   ],
   "source": [
    "#calculating the errors of a model\n",
    "mean_squared_error(y_test, y_pred)"
   ]
  },
  {
   "cell_type": "markdown",
   "id": "3f9dbf48",
   "metadata": {
    "papermill": {
     "duration": 0.013789,
     "end_time": "2022-11-13T09:06:39.113735",
     "exception": false,
     "start_time": "2022-11-13T09:06:39.099946",
     "status": "completed"
    },
    "tags": []
   },
   "source": [
    "So now the error is 0.08 which is way more less than the above error that is 0.7 \n",
    "so that means our second model is predicting much accurate values than the previous one\n",
    "that might be because here we have taken multiple features as our independent varibales to predict the value."
   ]
  }
 ],
 "metadata": {
  "kernelspec": {
   "display_name": "Python 3",
   "language": "python",
   "name": "python3"
  },
  "language_info": {
   "codemirror_mode": {
    "name": "ipython",
    "version": 3
   },
   "file_extension": ".py",
   "mimetype": "text/x-python",
   "name": "python",
   "nbconvert_exporter": "python",
   "pygments_lexer": "ipython3",
   "version": "3.7.12"
  },
  "papermill": {
   "default_parameters": {},
   "duration": 12.572548,
   "end_time": "2022-11-13T09:06:39.849902",
   "environment_variables": {},
   "exception": null,
   "input_path": "__notebook__.ipynb",
   "output_path": "__notebook__.ipynb",
   "parameters": {},
   "start_time": "2022-11-13T09:06:27.277354",
   "version": "2.3.4"
  }
 },
 "nbformat": 4,
 "nbformat_minor": 5
}
